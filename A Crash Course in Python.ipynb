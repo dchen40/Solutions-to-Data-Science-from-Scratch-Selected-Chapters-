{
 "cells": [
  {
   "cell_type": "markdown",
   "metadata": {},
   "source": [
    "Work with List"
   ]
  },
  {
   "cell_type": "code",
   "execution_count": 1,
   "metadata": {
    "ExecuteTime": {
     "end_time": "2019-01-30T20:32:39.062784Z",
     "start_time": "2019-01-30T20:32:39.000219Z"
    }
   },
   "outputs": [
    {
     "name": "stdout",
     "output_type": "stream",
     "text": [
      "cannot divide by zero\n"
     ]
    }
   ],
   "source": [
    "try:\n",
    "    print 0/0\n",
    "except ZeroDivisionError:\n",
    "    print \"cannot divide by zero\""
   ]
  },
  {
   "cell_type": "code",
   "execution_count": 2,
   "metadata": {
    "ExecuteTime": {
     "end_time": "2019-01-31T00:32:23.389635Z",
     "start_time": "2019-01-31T00:32:23.327165Z"
    }
   },
   "outputs": [],
   "source": [
    "document = [\"we\", \"are\", \"in\", \"struggle\", \"position\", \"but\", \"we\", \"are\", \"happy\", \"and\", \"we\", \"are\", \"gonna\", \"strive\"]"
   ]
  },
  {
   "cell_type": "code",
   "execution_count": 3,
   "metadata": {
    "ExecuteTime": {
     "end_time": "2019-01-31T00:39:43.063665Z",
     "start_time": "2019-01-31T00:39:43.017962Z"
    }
   },
   "outputs": [],
   "source": [
    "from collections import Counter"
   ]
  },
  {
   "cell_type": "code",
   "execution_count": 4,
   "metadata": {
    "ExecuteTime": {
     "end_time": "2019-01-31T00:40:11.936609Z",
     "start_time": "2019-01-31T00:40:11.891247Z"
    }
   },
   "outputs": [],
   "source": [
    "word_counts = Counter(document)"
   ]
  },
  {
   "cell_type": "code",
   "execution_count": 6,
   "metadata": {
    "ExecuteTime": {
     "end_time": "2019-01-31T00:40:37.561829Z",
     "start_time": "2019-01-31T00:40:37.540154Z"
    }
   },
   "outputs": [
    {
     "data": {
      "text/plain": [
       "[('we', 3),\n",
       " ('are', 3),\n",
       " ('and', 1),\n",
       " ('but', 1),\n",
       " ('struggle', 1),\n",
       " ('in', 1),\n",
       " ('position', 1),\n",
       " ('strive', 1),\n",
       " ('happy', 1),\n",
       " ('gonna', 1)]"
      ]
     },
     "execution_count": 6,
     "metadata": {},
     "output_type": "execute_result"
    }
   ],
   "source": [
    "word_counts.most_common()"
   ]
  },
  {
   "cell_type": "code",
   "execution_count": 11,
   "metadata": {
    "ExecuteTime": {
     "end_time": "2019-01-31T00:43:19.851622Z",
     "start_time": "2019-01-31T00:43:19.832740Z"
    }
   },
   "outputs": [],
   "source": [
    "x = sorted([-4,1,-2,3], key = abs, reverse = True)"
   ]
  },
  {
   "cell_type": "code",
   "execution_count": 12,
   "metadata": {
    "ExecuteTime": {
     "end_time": "2019-01-31T00:43:20.475625Z",
     "start_time": "2019-01-31T00:43:20.466926Z"
    }
   },
   "outputs": [
    {
     "data": {
      "text/plain": [
       "[-4, 3, -2, 1]"
      ]
     },
     "execution_count": 12,
     "metadata": {},
     "output_type": "execute_result"
    }
   ],
   "source": [
    "x"
   ]
  },
  {
   "cell_type": "code",
   "execution_count": 16,
   "metadata": {
    "ExecuteTime": {
     "end_time": "2019-01-31T00:52:47.313624Z",
     "start_time": "2019-01-31T00:52:47.296081Z"
    }
   },
   "outputs": [
    {
     "data": {
      "text/plain": [
       "[('we', 3),\n",
       " ('are', 3),\n",
       " ('and', 1),\n",
       " ('but', 1),\n",
       " ('struggle', 1),\n",
       " ('in', 1),\n",
       " ('position', 1),\n",
       " ('strive', 1),\n",
       " ('happy', 1),\n",
       " ('gonna', 1)]"
      ]
     },
     "execution_count": 16,
     "metadata": {},
     "output_type": "execute_result"
    }
   ],
   "source": [
    "sorted(word_counts.items(), key=lambda(word,count):count, reverse=True)"
   ]
  },
  {
   "cell_type": "code",
   "execution_count": 13,
   "metadata": {
    "ExecuteTime": {
     "end_time": "2019-01-31T00:47:44.142575Z",
     "start_time": "2019-01-31T00:47:44.098528Z"
    }
   },
   "outputs": [
    {
     "data": {
      "text/plain": [
       "[('and', 1),\n",
       " ('we', 3),\n",
       " ('but', 1),\n",
       " ('struggle', 1),\n",
       " ('in', 1),\n",
       " ('position', 1),\n",
       " ('strive', 1),\n",
       " ('happy', 1),\n",
       " ('gonna', 1),\n",
       " ('are', 3)]"
      ]
     },
     "execution_count": 13,
     "metadata": {},
     "output_type": "execute_result"
    }
   ],
   "source": [
    "word_counts.items()"
   ]
  },
  {
   "cell_type": "markdown",
   "metadata": {},
   "source": [
    "Function Tools: map, reduce, filter\n",
    "\n",
    "map: map(function, list) run the function for every element in the list and return a list with same size."
   ]
  },
  {
   "cell_type": "code",
   "execution_count": 21,
   "metadata": {
    "ExecuteTime": {
     "end_time": "2019-01-31T06:41:57.014927Z",
     "start_time": "2019-01-31T06:41:57.007536Z"
    }
   },
   "outputs": [],
   "source": [
    "def double(x):\n",
    "    return 2*x\n",
    "xs = [1,2,3,4]"
   ]
  },
  {
   "cell_type": "code",
   "execution_count": 23,
   "metadata": {
    "ExecuteTime": {
     "end_time": "2019-01-31T06:42:02.825238Z",
     "start_time": "2019-01-31T06:42:02.812338Z"
    }
   },
   "outputs": [
    {
     "data": {
      "text/plain": [
       "[2, 4, 6, 8]"
      ]
     },
     "execution_count": 23,
     "metadata": {},
     "output_type": "execute_result"
    }
   ],
   "source": [
    "# how to user map\n",
    "twice_xs = [double(x) for x in xs]\n",
    "twice_xs"
   ]
  },
  {
   "cell_type": "code",
   "execution_count": 24,
   "metadata": {
    "ExecuteTime": {
     "end_time": "2019-01-31T06:42:37.889920Z",
     "start_time": "2019-01-31T06:42:37.883345Z"
    }
   },
   "outputs": [],
   "source": [
    "twice_xs = map(double, xs)"
   ]
  },
  {
   "cell_type": "code",
   "execution_count": 25,
   "metadata": {
    "ExecuteTime": {
     "end_time": "2019-01-31T06:45:58.060401Z",
     "start_time": "2019-01-31T06:45:58.045884Z"
    }
   },
   "outputs": [
    {
     "data": {
      "text/plain": [
       "[4, 10]"
      ]
     },
     "execution_count": 25,
     "metadata": {},
     "output_type": "execute_result"
    }
   ],
   "source": [
    "def multiply(x,y):\n",
    "    return x*y\n",
    "products = map(multiply, [1,2], [4,5])\n",
    "products"
   ]
  },
  {
   "cell_type": "markdown",
   "metadata": {},
   "source": [
    "Enumerate: iterate over a list and user both its elements and their indexes."
   ]
  },
  {
   "cell_type": "code",
   "execution_count": 28,
   "metadata": {
    "ExecuteTime": {
     "end_time": "2019-01-31T07:18:54.391526Z",
     "start_time": "2019-01-31T07:18:54.381582Z"
    }
   },
   "outputs": [
    {
     "name": "stdout",
     "output_type": "stream",
     "text": [
      "(0, 'we')\n",
      "(1, 'are')\n",
      "(2, 'in')\n",
      "(3, 'struggle')\n",
      "(4, 'position')\n",
      "(5, 'but')\n",
      "(6, 'we')\n",
      "(7, 'are')\n",
      "(8, 'happy')\n",
      "(9, 'and')\n",
      "(10, 'we')\n",
      "(11, 'are')\n",
      "(12, 'gonna')\n",
      "(13, 'strive')\n"
     ]
    }
   ],
   "source": [
    "for i, doc in enumerate(document):\n",
    "    print(i,doc)"
   ]
  },
  {
   "cell_type": "code",
   "execution_count": 29,
   "metadata": {
    "ExecuteTime": {
     "end_time": "2019-01-31T07:19:14.048783Z",
     "start_time": "2019-01-31T07:19:14.039525Z"
    }
   },
   "outputs": [
    {
     "name": "stdout",
     "output_type": "stream",
     "text": [
      "we\n",
      "are\n",
      "in\n",
      "struggle\n",
      "position\n",
      "but\n",
      "we\n",
      "are\n",
      "happy\n",
      "and\n",
      "we\n",
      "are\n",
      "gonna\n",
      "strive\n"
     ]
    }
   ],
   "source": [
    "for _, doc in enumerate(document):\n",
    "    print(doc)"
   ]
  },
  {
   "cell_type": "markdown",
   "metadata": {},
   "source": [
    "Zip and Argument Unpacking\n",
    "\n",
    "zip: transforms multiple lists into a single list of tuples of corresponding elements"
   ]
  },
  {
   "cell_type": "code",
   "execution_count": 30,
   "metadata": {
    "ExecuteTime": {
     "end_time": "2019-01-31T07:25:16.472641Z",
     "start_time": "2019-01-31T07:25:16.460282Z"
    }
   },
   "outputs": [
    {
     "data": {
      "text/plain": [
       "[('a', 1), ('b', 2), ('c', 3)]"
      ]
     },
     "execution_count": 30,
     "metadata": {},
     "output_type": "execute_result"
    }
   ],
   "source": [
    "list1 = ['a','b','c']\n",
    "list2 = [1,2,3]\n",
    "zip(list1, list2)"
   ]
  },
  {
   "cell_type": "markdown",
   "metadata": {},
   "source": [
    "If the lists are different lengths, zip stops as soon as the first list ends.\n",
    "\n",
    "Unzip a list of tuples into two lists using zip: the asterisk performs argument unpacking."
   ]
  },
  {
   "cell_type": "code",
   "execution_count": 35,
   "metadata": {
    "ExecuteTime": {
     "end_time": "2019-01-31T07:28:42.075118Z",
     "start_time": "2019-01-31T07:28:42.066953Z"
    }
   },
   "outputs": [
    {
     "name": "stdout",
     "output_type": "stream",
     "text": [
      "(['a', 'b', 'c'], [1, 2, 3])\n"
     ]
    }
   ],
   "source": [
    "pairs = [('a', 1), ('b', 2), ('c', 3)]\n",
    "list1, list2 = zip(*pairs)\n",
    "print (list(list1), list(list2))"
   ]
  },
  {
   "cell_type": "markdown",
   "metadata": {},
   "source": [
    "args and kwargs"
   ]
  },
  {
   "cell_type": "code",
   "execution_count": null,
   "metadata": {},
   "outputs": [],
   "source": []
  }
 ],
 "metadata": {
  "kernelspec": {
   "display_name": "Python 2",
   "language": "python",
   "name": "python2"
  },
  "language_info": {
   "codemirror_mode": {
    "name": "ipython",
    "version": 2
   },
   "file_extension": ".py",
   "mimetype": "text/x-python",
   "name": "python",
   "nbconvert_exporter": "python",
   "pygments_lexer": "ipython2",
   "version": "2.7.15"
  },
  "toc": {
   "base_numbering": 1,
   "nav_menu": {},
   "number_sections": true,
   "sideBar": true,
   "skip_h1_title": false,
   "title_cell": "Table of Contents",
   "title_sidebar": "Contents",
   "toc_cell": false,
   "toc_position": {},
   "toc_section_display": true,
   "toc_window_display": false
  }
 },
 "nbformat": 4,
 "nbformat_minor": 2
}

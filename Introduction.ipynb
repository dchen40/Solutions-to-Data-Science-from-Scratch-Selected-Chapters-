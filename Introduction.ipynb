{
 "cells": [
  {
   "cell_type": "code",
   "execution_count": 1,
   "metadata": {
    "ExecuteTime": {
     "end_time": "2019-01-30T05:53:09.326666Z",
     "start_time": "2019-01-30T05:53:09.313212Z"
    }
   },
   "outputs": [],
   "source": [
    "from __future__ import division # enable interger division"
   ]
  },
  {
   "cell_type": "code",
   "execution_count": 2,
   "metadata": {
    "ExecuteTime": {
     "end_time": "2019-01-30T05:53:10.280196Z",
     "start_time": "2019-01-30T05:53:09.334775Z"
    }
   },
   "outputs": [],
   "source": [
    "from matplotlib import pyplot as plt"
   ]
  },
  {
   "cell_type": "code",
   "execution_count": 3,
   "metadata": {
    "ExecuteTime": {
     "end_time": "2019-01-30T05:53:10.305802Z",
     "start_time": "2019-01-30T05:53:10.286422Z"
    }
   },
   "outputs": [],
   "source": [
    "# data input\n",
    "users = [\n",
    "    { \"id\": 0, \"name\": \"Hero\" },\n",
    "    { \"id\": 1, \"name\": \"Dunn\" },\n",
    "    { \"id\": 2, \"name\": \"Sue\" },\n",
    "    { \"id\": 3, \"name\": \"Chi\" },\n",
    "    { \"id\": 4, \"name\": \"Thor\" },\n",
    "    { \"id\": 5, \"name\": \"Clive\" },\n",
    "    { \"id\": 6, \"name\": \"Hicks\" },\n",
    "    { \"id\": 7, \"name\": \"Devin\" },\n",
    "    { \"id\": 8, \"name\": \"Kate\" },\n",
    "    { \"id\": 9, \"name\": \"Klein\" },\n",
    "    { \"id\": 10, \"name\": \"Jen\" }\n",
    "]\n",
    "\n",
    "friendships = [(0, 1), (0, 2), (1, 2), (1, 3), (2, 3), (3, 4),\n",
    "               (4, 5), (5, 6), (5, 7), (6, 8), (7, 8), (8, 9)]"
   ]
  },
  {
   "cell_type": "code",
   "execution_count": 4,
   "metadata": {
    "ExecuteTime": {
     "end_time": "2019-01-30T05:53:10.338059Z",
     "start_time": "2019-01-30T05:53:10.311819Z"
    }
   },
   "outputs": [
    {
     "data": {
      "text/plain": [
       "[{'friends': [1, 2], 'id': 0, 'name': 'Hero'},\n",
       " {'friends': [0, 2, 3], 'id': 1, 'name': 'Dunn'},\n",
       " {'friends': [0, 1, 3], 'id': 2, 'name': 'Sue'},\n",
       " {'friends': [1, 2, 4], 'id': 3, 'name': 'Chi'},\n",
       " {'friends': [3, 5], 'id': 4, 'name': 'Thor'},\n",
       " {'friends': [4, 6, 7], 'id': 5, 'name': 'Clive'},\n",
       " {'friends': [5, 8], 'id': 6, 'name': 'Hicks'},\n",
       " {'friends': [5, 8], 'id': 7, 'name': 'Devin'},\n",
       " {'friends': [6, 7, 9], 'id': 8, 'name': 'Kate'},\n",
       " {'friends': [8], 'id': 9, 'name': 'Klein'},\n",
       " {'friends': [], 'id': 10, 'name': 'Jen'}]"
      ]
     },
     "execution_count": 4,
     "metadata": {},
     "output_type": "execute_result"
    }
   ],
   "source": [
    "# find friends of each user\n",
    "for user in users:\n",
    "    user[\"friends\"] = []\n",
    "for u, v in friendships:\n",
    "    users[u][\"friends\"].append(users[v][\"id\"])\n",
    "    users[v][\"friends\"].append(users[u][\"id\"])\n",
    "users"
   ]
  },
  {
   "cell_type": "code",
   "execution_count": 5,
   "metadata": {
    "ExecuteTime": {
     "end_time": "2019-01-30T05:53:10.374770Z",
     "start_time": "2019-01-30T05:53:10.344545Z"
    }
   },
   "outputs": [
    {
     "data": {
      "text/plain": [
       "[{'friends': [1, 2], 'id': 0, 'name': 'Hero', 'no_friends': 2},\n",
       " {'friends': [0, 2, 3], 'id': 1, 'name': 'Dunn', 'no_friends': 3},\n",
       " {'friends': [0, 1, 3], 'id': 2, 'name': 'Sue', 'no_friends': 3},\n",
       " {'friends': [1, 2, 4], 'id': 3, 'name': 'Chi', 'no_friends': 3},\n",
       " {'friends': [3, 5], 'id': 4, 'name': 'Thor', 'no_friends': 2},\n",
       " {'friends': [4, 6, 7], 'id': 5, 'name': 'Clive', 'no_friends': 3},\n",
       " {'friends': [5, 8], 'id': 6, 'name': 'Hicks', 'no_friends': 2},\n",
       " {'friends': [5, 8], 'id': 7, 'name': 'Devin', 'no_friends': 2},\n",
       " {'friends': [6, 7, 9], 'id': 8, 'name': 'Kate', 'no_friends': 3},\n",
       " {'friends': [8], 'id': 9, 'name': 'Klein', 'no_friends': 1},\n",
       " {'friends': [], 'id': 10, 'name': 'Jen', 'no_friends': 0}]"
      ]
     },
     "execution_count": 5,
     "metadata": {},
     "output_type": "execute_result"
    }
   ],
   "source": [
    "# find for each id, how many friends of a user\n",
    "for user in users:\n",
    "    user['no_friends'] = len(user['friends'])\n",
    "    \n",
    "users"
   ]
  },
  {
   "cell_type": "code",
   "execution_count": 6,
   "metadata": {
    "ExecuteTime": {
     "end_time": "2019-01-30T05:53:10.405478Z",
     "start_time": "2019-01-30T05:53:10.381507Z"
    }
   },
   "outputs": [
    {
     "data": {
      "text/plain": [
       "24"
      ]
     },
     "execution_count": 6,
     "metadata": {},
     "output_type": "execute_result"
    }
   ],
   "source": [
    "# total connections\n",
    "total = 0\n",
    "for user in users:\n",
    "    total = total + user['no_friends']\n",
    "    \n",
    "total"
   ]
  },
  {
   "cell_type": "code",
   "execution_count": 7,
   "metadata": {
    "ExecuteTime": {
     "end_time": "2019-01-30T05:53:10.427225Z",
     "start_time": "2019-01-30T05:53:10.414013Z"
    }
   },
   "outputs": [
    {
     "data": {
      "text/plain": [
       "24"
      ]
     },
     "execution_count": 7,
     "metadata": {},
     "output_type": "execute_result"
    }
   ],
   "source": [
    "sum([len(user['friends']) for user in users])"
   ]
  },
  {
   "cell_type": "code",
   "execution_count": 8,
   "metadata": {
    "ExecuteTime": {
     "end_time": "2019-01-30T05:53:10.492364Z",
     "start_time": "2019-01-30T05:53:10.434853Z"
    }
   },
   "outputs": [
    {
     "data": {
      "text/plain": [
       "[{'fof': [3], 'friends': [1, 2], 'id': 0, 'name': 'Hero', 'no_friends': 2},\n",
       " {'fof': [4], 'friends': [0, 2, 3], 'id': 1, 'name': 'Dunn', 'no_friends': 3},\n",
       " {'fof': [4], 'friends': [0, 1, 3], 'id': 2, 'name': 'Sue', 'no_friends': 3},\n",
       " {'fof': [0, 5],\n",
       "  'friends': [1, 2, 4],\n",
       "  'id': 3,\n",
       "  'name': 'Chi',\n",
       "  'no_friends': 3},\n",
       " {'fof': [1, 2, 6, 7],\n",
       "  'friends': [3, 5],\n",
       "  'id': 4,\n",
       "  'name': 'Thor',\n",
       "  'no_friends': 2},\n",
       " {'fof': [8, 3],\n",
       "  'friends': [4, 6, 7],\n",
       "  'id': 5,\n",
       "  'name': 'Clive',\n",
       "  'no_friends': 3},\n",
       " {'fof': [9, 4, 7],\n",
       "  'friends': [5, 8],\n",
       "  'id': 6,\n",
       "  'name': 'Hicks',\n",
       "  'no_friends': 2},\n",
       " {'fof': [9, 4, 6],\n",
       "  'friends': [5, 8],\n",
       "  'id': 7,\n",
       "  'name': 'Devin',\n",
       "  'no_friends': 2},\n",
       " {'fof': [5], 'friends': [6, 7, 9], 'id': 8, 'name': 'Kate', 'no_friends': 3},\n",
       " {'fof': [6, 7], 'friends': [8], 'id': 9, 'name': 'Klein', 'no_friends': 1},\n",
       " {'fof': [], 'friends': [], 'id': 10, 'name': 'Jen', 'no_friends': 0}]"
      ]
     },
     "execution_count": 8,
     "metadata": {},
     "output_type": "execute_result"
    }
   ],
   "source": [
    "#####\n",
    "## How many friends of friend each user has?\n",
    "####\n",
    "# find friends of friend\n",
    "for user in users:\n",
    "    user['fof'] = []\n",
    "for user in users:\n",
    "    for f in user['friends']:\n",
    "        for ff in users[f]['friends']:\n",
    "            if ff != user['id'] and ff not in user['friends']:\n",
    "                user['fof'].append(ff)\n",
    "        \n",
    "for user in users:\n",
    "    user['fof'] = list(set(user['fof'])) ### how to unique a list using set() then list()\n",
    "    \n",
    "users"
   ]
  },
  {
   "cell_type": "code",
   "execution_count": 9,
   "metadata": {
    "ExecuteTime": {
     "end_time": "2019-01-30T05:53:10.549628Z",
     "start_time": "2019-01-30T05:53:10.501866Z"
    }
   },
   "outputs": [],
   "source": [
    "interests = [\n",
    "    (0, \"Hadoop\"), (0, \"Big Data\"), (0, \"HBase\"), (0, \"Java\"),\n",
    "    (0, \"Spark\"), (0, \"Storm\"), (0, \"Cassandra\"),\n",
    "    (1, \"NoSQL\"), (1, \"MongoDB\"), (1, \"Cassandra\"), (1, \"HBase\"),\n",
    "    (1, \"Postgres\"), (2, \"Python\"), (2, \"scikit-learn\"), (2, \"scipy\"),\n",
    "    (2, \"numpy\"), (2, \"statsmodels\"), (2, \"pandas\"), (3, \"R\"), (3, \"Python\"),\n",
    "    (3, \"statistics\"), (3, \"regression\"), (3, \"probability\"),\n",
    "    (4, \"machine learning\"), (4, \"regression\"), (4, \"decision trees\"),\n",
    "    (4, \"libsvm\"), (5, \"Python\"), (5, \"R\"), (5, \"Java\"), (5, \"C++\"),\n",
    "    (5, \"Haskell\"), (5, \"programming languages\"), (6, \"statistics\"),\n",
    "    (6, \"probability\"), (6, \"mathematics\"), (6, \"theory\"),\n",
    "    (7, \"machine learning\"), (7, \"scikit-learn\"), (7, \"Mahout\"),\n",
    "    (7, \"neural networks\"), (8, \"neural networks\"), (8, \"deep learning\"),\n",
    "    (8, \"Big Data\"), (8, \"artificial intelligence\"), (9, \"Hadoop\"),\n",
    "    (9, \"Java\"), (9, \"MapReduce\"), (9, \"Big Data\")\n",
    "]"
   ]
  },
  {
   "cell_type": "code",
   "execution_count": 14,
   "metadata": {
    "ExecuteTime": {
     "end_time": "2019-01-30T06:04:28.527769Z",
     "start_time": "2019-01-30T06:04:28.520296Z"
    }
   },
   "outputs": [],
   "source": [
    "## Build a function to find users with similar interets\n",
    "def data_scientists_who_like(target_interest):\n",
    "    users = []\n",
    "    for item in interests:\n",
    "        if item[1] == target_interest:\n",
    "            users.append(item[0])\n",
    "    return list(set(users))"
   ]
  },
  {
   "cell_type": "code",
   "execution_count": 15,
   "metadata": {
    "ExecuteTime": {
     "end_time": "2019-01-30T06:04:28.822522Z",
     "start_time": "2019-01-30T06:04:28.809816Z"
    }
   },
   "outputs": [
    {
     "data": {
      "text/plain": [
       "[4, 7]"
      ]
     },
     "execution_count": 15,
     "metadata": {},
     "output_type": "execute_result"
    }
   ],
   "source": [
    "data_scientists_who_like(\"machine learning\")"
   ]
  },
  {
   "cell_type": "code",
   "execution_count": 16,
   "metadata": {
    "ExecuteTime": {
     "end_time": "2019-01-30T06:25:35.537977Z",
     "start_time": "2019-01-30T06:25:35.514063Z"
    }
   },
   "outputs": [],
   "source": [
    "## The above method is time consuming\n",
    "query = {}\n",
    "for user_id, interest in interests:\n",
    "    if interest in query:\n",
    "        query[interest].append(user_id)\n",
    "    else:\n",
    "        query[interest] = [user_id]"
   ]
  },
  {
   "cell_type": "code",
   "execution_count": 17,
   "metadata": {
    "ExecuteTime": {
     "end_time": "2019-01-30T06:25:42.087908Z",
     "start_time": "2019-01-30T06:25:42.066675Z"
    }
   },
   "outputs": [
    {
     "data": {
      "text/plain": [
       "{'Big Data': [0, 8, 9],\n",
       " 'C++': [5],\n",
       " 'Cassandra': [0, 1],\n",
       " 'HBase': [0, 1],\n",
       " 'Hadoop': [0, 9],\n",
       " 'Haskell': [5],\n",
       " 'Java': [0, 5, 9],\n",
       " 'Mahout': [7],\n",
       " 'MapReduce': [9],\n",
       " 'MongoDB': [1],\n",
       " 'NoSQL': [1],\n",
       " 'Postgres': [1],\n",
       " 'Python': [2, 3, 5],\n",
       " 'R': [3, 5],\n",
       " 'Spark': [0],\n",
       " 'Storm': [0],\n",
       " 'artificial intelligence': [8],\n",
       " 'decision trees': [4],\n",
       " 'deep learning': [8],\n",
       " 'libsvm': [4],\n",
       " 'machine learning': [4, 7],\n",
       " 'mathematics': [6],\n",
       " 'neural networks': [7, 8],\n",
       " 'numpy': [2],\n",
       " 'pandas': [2],\n",
       " 'probability': [3, 6],\n",
       " 'programming languages': [5],\n",
       " 'regression': [3, 4],\n",
       " 'scikit-learn': [2, 7],\n",
       " 'scipy': [2],\n",
       " 'statistics': [3, 6],\n",
       " 'statsmodels': [2],\n",
       " 'theory': [6]}"
      ]
     },
     "execution_count": 17,
     "metadata": {},
     "output_type": "execute_result"
    }
   ],
   "source": [
    "query"
   ]
  },
  {
   "cell_type": "code",
   "execution_count": 29,
   "metadata": {
    "ExecuteTime": {
     "end_time": "2019-01-30T07:02:52.444599Z",
     "start_time": "2019-01-30T07:02:52.431736Z"
    }
   },
   "outputs": [],
   "source": [
    "from collections import Counter # used for count the element frequency of a list\n",
    "## find who has the most common interests with a given user\n",
    "def most_common_interest_user(user_id):\n",
    "    id = []\n",
    "    for item in interests:\n",
    "        if item[0] == user_id:\n",
    "            interest = item[1]\n",
    "            for fid in query[interest]:\n",
    "                if fid != user_id:\n",
    "                    id.append(fid)\n",
    "                    \n",
    "    data = Counter(id)\n",
    "    return max(id, key=data.get)"
   ]
  },
  {
   "cell_type": "code",
   "execution_count": 30,
   "metadata": {
    "ExecuteTime": {
     "end_time": "2019-01-30T07:02:52.938730Z",
     "start_time": "2019-01-30T07:02:52.927992Z"
    }
   },
   "outputs": [
    {
     "data": {
      "text/plain": [
       "9"
      ]
     },
     "execution_count": 30,
     "metadata": {},
     "output_type": "execute_result"
    }
   ],
   "source": [
    "most_common_interest_user(0)"
   ]
  },
  {
   "cell_type": "code",
   "execution_count": 31,
   "metadata": {
    "ExecuteTime": {
     "end_time": "2019-01-30T07:03:46.015819Z",
     "start_time": "2019-01-30T07:03:46.005017Z"
    }
   },
   "outputs": [],
   "source": [
    "from collections import Counter # used for count the element frequency of a list\n",
    "## find who has the most common interests with a given user\n",
    "def most_common_interest_user(user_id):\n",
    "    id = []\n",
    "    for item in interests:\n",
    "        if item[0] == user_id:\n",
    "            interest = item[1]\n",
    "            for fid in query[interest]:\n",
    "                if fid != user_id:\n",
    "                    id.append(fid)\n",
    "                    \n",
    "    \n",
    "    return Counter(id).most_common(1)"
   ]
  },
  {
   "cell_type": "code",
   "execution_count": 32,
   "metadata": {
    "ExecuteTime": {
     "end_time": "2019-01-30T07:03:46.543106Z",
     "start_time": "2019-01-30T07:03:46.533685Z"
    }
   },
   "outputs": [
    {
     "data": {
      "text/plain": [
       "[(9, 3)]"
      ]
     },
     "execution_count": 32,
     "metadata": {},
     "output_type": "execute_result"
    }
   ],
   "source": [
    "most_common_interest_user(0) # 9 is the id, 3 is the frequency"
   ]
  },
  {
   "cell_type": "code",
   "execution_count": 35,
   "metadata": {
    "ExecuteTime": {
     "end_time": "2019-01-30T07:05:23.974946Z",
     "start_time": "2019-01-30T07:05:23.964633Z"
    }
   },
   "outputs": [
    {
     "data": {
      "text/plain": [
       "[(1, 4)]"
      ]
     },
     "execution_count": 35,
     "metadata": {},
     "output_type": "execute_result"
    }
   ],
   "source": [
    "Counter([1,1,1,1,9]).most_common(1)"
   ]
  },
  {
   "cell_type": "markdown",
   "metadata": {},
   "source": [
    "### SALARIES AND EXPERIENCE "
   ]
  },
  {
   "cell_type": "code",
   "execution_count": 36,
   "metadata": {
    "ExecuteTime": {
     "end_time": "2019-01-30T07:34:32.503713Z",
     "start_time": "2019-01-30T07:34:32.484717Z"
    }
   },
   "outputs": [],
   "source": [
    "salaries_and_tenures = [(83000, 8.7), (88000, 8.1),\n",
    "                        (48000, 0.7), (76000, 6),\n",
    "                        (69000, 6.5), (76000, 7.5),\n",
    "                        (60000, 2.5), (83000, 10),\n",
    "                        (48000, 1.9), (63000, 4.2)]"
   ]
  },
  {
   "cell_type": "code",
   "execution_count": 42,
   "metadata": {
    "ExecuteTime": {
     "end_time": "2019-01-30T07:51:48.163596Z",
     "start_time": "2019-01-30T07:51:48.157468Z"
    }
   },
   "outputs": [],
   "source": [
    "from collections import defaultdict\n",
    "salary_by_tenure = defaultdict(list)"
   ]
  },
  {
   "cell_type": "code",
   "execution_count": 43,
   "metadata": {
    "ExecuteTime": {
     "end_time": "2019-01-30T07:51:49.430802Z",
     "start_time": "2019-01-30T07:51:49.419800Z"
    }
   },
   "outputs": [
    {
     "data": {
      "text/plain": [
       "defaultdict(list, {})"
      ]
     },
     "execution_count": 43,
     "metadata": {},
     "output_type": "execute_result"
    }
   ],
   "source": [
    "salary_by_tenure"
   ]
  },
  {
   "cell_type": "code",
   "execution_count": 44,
   "metadata": {
    "ExecuteTime": {
     "end_time": "2019-01-30T07:51:50.530320Z",
     "start_time": "2019-01-30T07:51:50.516317Z"
    }
   },
   "outputs": [
    {
     "data": {
      "text/plain": [
       "defaultdict(list,\n",
       "            {0.7: [48000],\n",
       "             1.9: [48000],\n",
       "             2.5: [60000],\n",
       "             4.2: [63000],\n",
       "             6: [76000],\n",
       "             6.5: [69000],\n",
       "             7.5: [76000],\n",
       "             8.1: [88000],\n",
       "             8.7: [83000],\n",
       "             10: [83000]})"
      ]
     },
     "execution_count": 44,
     "metadata": {},
     "output_type": "execute_result"
    }
   ],
   "source": [
    "# Average salary for each tenure\n",
    "for salary, tenure in salaries_and_tenures:\n",
    "    salary_by_tenure[tenure].append(salary) # 不需要初始化dict的value\n",
    "salary_by_tenure"
   ]
  },
  {
   "cell_type": "code",
   "execution_count": 47,
   "metadata": {
    "ExecuteTime": {
     "end_time": "2019-01-30T07:56:41.850173Z",
     "start_time": "2019-01-30T07:56:41.837447Z"
    }
   },
   "outputs": [
    {
     "data": {
      "text/plain": [
       "{0.7: 48000.0,\n",
       " 1.9: 48000.0,\n",
       " 2.5: 60000.0,\n",
       " 4.2: 63000.0,\n",
       " 6: 76000.0,\n",
       " 6.5: 69000.0,\n",
       " 7.5: 76000.0,\n",
       " 8.1: 88000.0,\n",
       " 8.7: 83000.0,\n",
       " 10: 83000.0}"
      ]
     },
     "execution_count": 47,
     "metadata": {},
     "output_type": "execute_result"
    }
   ],
   "source": [
    "ave_salary_by_tenure = {tenure: sum(salary)/len(salary) for tenure, salary in salary_by_tenure.items()}\n",
    "ave_salary_by_tenure\n",
    "# only one salary per tenure"
   ]
  },
  {
   "cell_type": "code",
   "execution_count": 60,
   "metadata": {
    "ExecuteTime": {
     "end_time": "2019-01-30T08:12:42.485224Z",
     "start_time": "2019-01-30T08:12:42.469692Z"
    }
   },
   "outputs": [
    {
     "data": {
      "text/plain": [
       "defaultdict(list,\n",
       "            {'2-5 years': [60000, 63000],\n",
       "             'less than 2 year': [48000, 48000],\n",
       "             'more than 5 years': [83000, 88000, 76000, 69000, 76000, 83000]})"
      ]
     },
     "execution_count": 60,
     "metadata": {},
     "output_type": "execute_result"
    }
   ],
   "source": [
    "# bucket the tenure and average out the salary for each bucket\n",
    "def bucket(tenure):\n",
    "    if tenure < 2:\n",
    "        bucket = 'less than 2 year'\n",
    "    elif tenure < 5:\n",
    "        bucket = '2-5 years'\n",
    "    else:\n",
    "        bucket = 'more than 5 years'\n",
    "    return bucket\n",
    "\n",
    "buc = defaultdict(list)\n",
    "for salary, tenure in salaries_and_tenures:\n",
    "    buc[bucket(tenure)].append(salary)\n",
    "buc"
   ]
  },
  {
   "cell_type": "code",
   "execution_count": 61,
   "metadata": {
    "ExecuteTime": {
     "end_time": "2019-01-30T08:15:05.910579Z",
     "start_time": "2019-01-30T08:15:05.897323Z"
    }
   },
   "outputs": [
    {
     "data": {
      "text/plain": [
       "{'2-5 years': 61500.0,\n",
       " 'less than 2 year': 48000.0,\n",
       " 'more than 5 years': 79166.66666666667}"
      ]
     },
     "execution_count": 61,
     "metadata": {},
     "output_type": "execute_result"
    }
   ],
   "source": [
    "ave_salary_by_bkt = {}\n",
    "for buc, salaries in buc.items():\n",
    "    ave_salary_by_bkt[buc] = sum(salaries)/len(salaries)\n",
    "ave_salary_by_bkt"
   ]
  },
  {
   "cell_type": "markdown",
   "metadata": {},
   "source": [
    "### TOPICS OF INTEREST"
   ]
  },
  {
   "cell_type": "code",
   "execution_count": 62,
   "metadata": {
    "ExecuteTime": {
     "end_time": "2019-01-30T08:26:20.002605Z",
     "start_time": "2019-01-30T08:26:19.969954Z"
    }
   },
   "outputs": [],
   "source": [
    "interests = [\n",
    "    (0, \"Hadoop\"), (0, \"Big Data\"), (0, \"HBase\"), (0, \"Java\"),\n",
    "    (0, \"Spark\"), (0, \"Storm\"), (0, \"Cassandra\"),\n",
    "    (1, \"NoSQL\"), (1, \"MongoDB\"), (1, \"Cassandra\"), (1, \"HBase\"),\n",
    "    (1, \"Postgres\"), (2, \"Python\"), (2, \"scikit-learn\"), (2, \"scipy\"),\n",
    "    (2, \"numpy\"), (2, \"statsmodels\"), (2, \"pandas\"), (3, \"R\"), (3, \"Python\"),\n",
    "    (3, \"statistics\"), (3, \"regression\"), (3, \"probability\"),\n",
    "    (4, \"machine learning\"), (4, \"regression\"), (4, \"decision trees\"),\n",
    "    (4, \"libsvm\"), (5, \"Python\"), (5, \"R\"), (5, \"Java\"), (5, \"C++\"),\n",
    "    (5, \"Haskell\"), (5, \"programming languages\"), (6, \"statistics\"),\n",
    "    (6, \"probability\"), (6, \"mathematics\"), (6, \"theory\"),\n",
    "    (7, \"machine learning\"), (7, \"scikit-learn\"), (7, \"Mahout\"),\n",
    "    (7, \"neural networks\"), (8, \"neural networks\"), (8, \"deep learning\"),\n",
    "    (8, \"Big Data\"), (8, \"artificial intelligence\"), (9, \"Hadoop\"),\n",
    "    (9, \"Java\"), (9, \"MapReduce\"), (9, \"Big Data\")\n",
    "]"
   ]
  },
  {
   "cell_type": "code",
   "execution_count": 66,
   "metadata": {
    "ExecuteTime": {
     "end_time": "2019-01-30T17:59:52.982005Z",
     "start_time": "2019-01-30T17:59:52.962839Z"
    }
   },
   "outputs": [
    {
     "data": {
      "text/plain": [
       "[('learning', 3),\n",
       " ('java', 3),\n",
       " ('python', 3),\n",
       " ('big', 3),\n",
       " ('data', 3),\n",
       " ('hbase', 2),\n",
       " ('regression', 2),\n",
       " ('cassandra', 2),\n",
       " ('statistics', 2),\n",
       " ('probability', 2),\n",
       " ('hadoop', 2),\n",
       " ('networks', 2),\n",
       " ('machine', 2),\n",
       " ('neural', 2),\n",
       " ('scikit-learn', 2),\n",
       " ('r', 2),\n",
       " ('nosql', 1),\n",
       " ('programming', 1),\n",
       " ('deep', 1),\n",
       " ('haskell', 1),\n",
       " ('languages', 1),\n",
       " ('decision', 1),\n",
       " ('artificial', 1),\n",
       " ('storm', 1),\n",
       " ('mongodb', 1),\n",
       " ('intelligence', 1),\n",
       " ('mathematics', 1),\n",
       " ('numpy', 1),\n",
       " ('pandas', 1),\n",
       " ('postgres', 1),\n",
       " ('libsvm', 1),\n",
       " ('trees', 1),\n",
       " ('scipy', 1),\n",
       " ('spark', 1),\n",
       " ('mapreduce', 1),\n",
       " ('c++', 1),\n",
       " ('theory', 1),\n",
       " ('statsmodels', 1),\n",
       " ('mahout', 1)]"
      ]
     },
     "execution_count": 66,
     "metadata": {},
     "output_type": "execute_result"
    }
   ],
   "source": [
    "# find the most popular interest\n",
    "# Counter(List).most_common: find the most_common element in descending order\n",
    "# lower(): take the lower case\n",
    "# split(): split into words\n",
    "Counter([word for user, interest in interests\n",
    "for word in interest.lower().split()]).most_common()"
   ]
  },
  {
   "cell_type": "code",
   "execution_count": null,
   "metadata": {},
   "outputs": [],
   "source": []
  }
 ],
 "metadata": {
  "kernelspec": {
   "display_name": "Python 2",
   "language": "python",
   "name": "python2"
  },
  "language_info": {
   "codemirror_mode": {
    "name": "ipython",
    "version": 2
   },
   "file_extension": ".py",
   "mimetype": "text/x-python",
   "name": "python",
   "nbconvert_exporter": "python",
   "pygments_lexer": "ipython2",
   "version": "2.7.15"
  },
  "toc": {
   "base_numbering": 1,
   "nav_menu": {},
   "number_sections": true,
   "sideBar": true,
   "skip_h1_title": false,
   "title_cell": "Table of Contents",
   "title_sidebar": "Contents",
   "toc_cell": false,
   "toc_position": {},
   "toc_section_display": true,
   "toc_window_display": false
  }
 },
 "nbformat": 4,
 "nbformat_minor": 2
}
